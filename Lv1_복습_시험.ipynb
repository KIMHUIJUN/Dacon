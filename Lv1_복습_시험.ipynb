{
  "nbformat": 4,
  "nbformat_minor": 0,
  "metadata": {
    "colab": {
      "name": "Lv1 복습  시험",
      "provenance": [],
      "collapsed_sections": [],
      "include_colab_link": true
    },
    "kernelspec": {
      "name": "python3",
      "display_name": "Python 3"
    },
    "language_info": {
      "name": "python"
    }
  },
  "cells": [
    {
      "cell_type": "markdown",
      "metadata": {
        "id": "view-in-github",
        "colab_type": "text"
      },
      "source": [
        "<a href=\"https://colab.research.google.com/github/KIMHUIJUN/Dacon_Lv1/blob/main/Lv1_%EB%B3%B5%EC%8A%B5_%EC%8B%9C%ED%97%98.ipynb\" target=\"_parent\"><img src=\"https://colab.research.google.com/assets/colab-badge.svg\" alt=\"Open In Colab\"/></a>"
      ]
    },
    {
      "cell_type": "markdown",
      "metadata": {
        "id": "7A1_NrpnNgI0"
      },
      "source": [
        "## 데이터 다운로드\n",
        "--- \n",
        "아래 셀을 실행시켜 데이터를 colab에 불러옵니다.  \n",
        "셀 실행은 Ctrl + Enter 를 이용해 실행 시킬 수 있습니다. "
      ]
    },
    {
      "cell_type": "code",
      "metadata": {
        "id": "a3VxvpLvhnap"
      },
      "source": [
        "# 데이터 다운로드 링크로 데이터를 코랩에 불러옵니다.\n",
        "\n",
        "!wget 'https://bit.ly/3gLj0Q6'\n",
        "\n",
        "import zipfile\n",
        "with zipfile.ZipFile('3gLj0Q6', 'r') as existing_zip:\n",
        "    existing_zip.extractall('data')"
      ],
      "execution_count": null,
      "outputs": []
    },
    {
      "cell_type": "markdown",
      "metadata": {
        "id": "gx8XCXCxeQk8"
      },
      "source": [
        "## 라이브러리 불러오기\n",
        "---\n"
      ]
    },
    {
      "cell_type": "code",
      "metadata": {
        "id": "kt_IKrkPeNwQ"
      },
      "source": [
        "# Pandas 와 sklearn.tree(DecisionTreeRegressor) 라이브러리를 불러오세요\n"
      ],
      "execution_count": null,
      "outputs": []
    },
    {
      "cell_type": "markdown",
      "metadata": {
        "id": "VxC2pa2-rgat"
      },
      "source": [
        "## 데이터 불러오기\n",
        "---"
      ]
    },
    {
      "cell_type": "code",
      "metadata": {
        "id": "V6wTaK4sfnms"
      },
      "source": [
        "# train.csv 와 test.csv 를 DataFrame 클래스로 불러오세요"
      ],
      "execution_count": null,
      "outputs": []
    },
    {
      "cell_type": "markdown",
      "metadata": {
        "id": "rx1vTWZ6m275"
      },
      "source": [
        "## 데이터 정보 관찰하기\n",
        "---"
      ]
    },
    {
      "cell_type": "code",
      "metadata": {
        "id": "vsQQaG6AtlGM"
      },
      "source": [
        "# head() 를 사용해 데이터 정보를 관찰하세요\n"
      ],
      "execution_count": null,
      "outputs": []
    },
    {
      "cell_type": "markdown",
      "metadata": {
        "id": "5_bpcPVkt_FF"
      },
      "source": [
        "## 데이터 행열 갯수 관찰\n",
        "---"
      ]
    },
    {
      "cell_type": "code",
      "metadata": {
        "id": "UBg2PGcGt-Dz"
      },
      "source": [
        "# shape 를 사용해 데이터 크기를 관찰하세요\n"
      ],
      "execution_count": null,
      "outputs": []
    },
    {
      "cell_type": "markdown",
      "metadata": {
        "id": "MbCKf_ZUu761"
      },
      "source": [
        "## 결측치 확인\n",
        "---"
      ]
    },
    {
      "cell_type": "code",
      "metadata": {
        "id": "9WoxzXdJu6ft"
      },
      "source": [
        "# 결측치가 있는지 확인하세요."
      ],
      "execution_count": null,
      "outputs": []
    },
    {
      "cell_type": "markdown",
      "metadata": {
        "id": "w_PwM9kF7Pbi"
      },
      "source": [
        "## 결측치 전처리\n",
        "---"
      ]
    },
    {
      "cell_type": "code",
      "metadata": {
        "id": "ryKlHfLWqgjY"
      },
      "source": [
        "#를 사용해 train 데이터는 결측치를 제거하고\n",
        "# test 데이터 결측치는 0 으로 대체하세요.\n",
        "# 그리고 결측치의 갯수를 출력하여 확안하세요.\n"
      ],
      "execution_count": null,
      "outputs": []
    },
    {
      "cell_type": "markdown",
      "metadata": {
        "id": "WGV3o2mFx8qG"
      },
      "source": [
        "## 모델 훈련\n",
        "---\n"
      ]
    },
    {
      "cell_type": "code",
      "metadata": {
        "id": "5jqXxcHHyX8g"
      },
      "source": [
        "# train 데이터의 count 피쳐를 뺀 것을 X_train 으로 할당하세요.\n",
        "# train 데이터의 count 피쳐만을 가진 것을 Y_train 으로 할당하세요.\n",
        "# 회귀의사결정나무를 선언하고  훈련시키세요."
      ],
      "execution_count": null,
      "outputs": []
    },
    {
      "cell_type": "markdown",
      "metadata": {
        "id": "Rb9n13smytBH"
      },
      "source": [
        "## 테스트 파일 예측\n",
        "---"
      ]
    },
    {
      "cell_type": "code",
      "metadata": {
        "id": "e6U9mwQByv8m"
      },
      "source": [
        "# test data 를 훈련한 모델로 예측한 data_array 를 생성하세요."
      ],
      "execution_count": null,
      "outputs": []
    },
    {
      "cell_type": "markdown",
      "metadata": {
        "id": "G7SqLw2iy2vR"
      },
      "source": [
        "## submission 파일 생성\n",
        "---"
      ]
    },
    {
      "cell_type": "code",
      "metadata": {
        "id": "EgGr3552y6B0"
      },
      "source": [
        "# submission.csv 를 불러오세요.\n",
        "# submission df 의 count 피쳐에 예측한 결과를 덧입히세요.\n",
        "# submission df 를  csv 을 생성하세요. *index=False) "
      ],
      "execution_count": null,
      "outputs": []
    }
  ]
}